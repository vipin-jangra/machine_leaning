{
  "nbformat": 4,
  "nbformat_minor": 0,
  "metadata": {
    "colab": {
      "provenance": [],
      "authorship_tag": "ABX9TyNtunuYUQi/M+TMX9nEFBfw",
      "include_colab_link": true
    },
    "kernelspec": {
      "name": "python3",
      "display_name": "Python 3"
    },
    "language_info": {
      "name": "python"
    }
  },
  "cells": [
    {
      "cell_type": "markdown",
      "metadata": {
        "id": "view-in-github",
        "colab_type": "text"
      },
      "source": [
        "<a href=\"https://colab.research.google.com/github/vipin-jangra/machine_leaning/blob/main/profit_regression.ipynb\" target=\"_parent\"><img src=\"https://colab.research.google.com/assets/colab-badge.svg\" alt=\"Open In Colab\"/></a>"
      ]
    },
    {
      "cell_type": "code",
      "execution_count": 1,
      "metadata": {
        "id": "Z4TzaLn_fP5s"
      },
      "outputs": [],
      "source": [
        "import pandas as pd\n",
        "import numpy as np\n"
      ]
    },
    {
      "cell_type": "code",
      "source": [
        "dataset = pd.read_csv('regression_problem.csv')\n"
      ],
      "metadata": {
        "id": "1CrOEuHOz4vd"
      },
      "execution_count": 2,
      "outputs": []
    },
    {
      "cell_type": "code",
      "source": [
        "dataset.head()"
      ],
      "metadata": {
        "colab": {
          "base_uri": "https://localhost:8080/",
          "height": 206
        },
        "id": "FIHDUEFN1-XK",
        "outputId": "def94e21-8b3e-4baa-d474-24f2375c640a"
      },
      "execution_count": 3,
      "outputs": [
        {
          "output_type": "execute_result",
          "data": {
            "text/plain": [
              "   Employees  Products  Clients  Turnover  Atrition   Profit\n",
              "0       1567         9       15  31470.06      3.35  8147.66\n",
              "1       1675        10        8  41895.10     12.78  4520.65\n",
              "2       1395         5       13  32372.37     17.50  6653.68\n",
              "3       1165         1        9  29595.66      5.15  3949.12\n",
              "4         35         2       12    815.01     10.17  -866.69"
            ],
            "text/html": [
              "\n",
              "  <div id=\"df-b925c254-31fc-4783-a711-3d768f122fb0\">\n",
              "    <div class=\"colab-df-container\">\n",
              "      <div>\n",
              "<style scoped>\n",
              "    .dataframe tbody tr th:only-of-type {\n",
              "        vertical-align: middle;\n",
              "    }\n",
              "\n",
              "    .dataframe tbody tr th {\n",
              "        vertical-align: top;\n",
              "    }\n",
              "\n",
              "    .dataframe thead th {\n",
              "        text-align: right;\n",
              "    }\n",
              "</style>\n",
              "<table border=\"1\" class=\"dataframe\">\n",
              "  <thead>\n",
              "    <tr style=\"text-align: right;\">\n",
              "      <th></th>\n",
              "      <th>Employees</th>\n",
              "      <th>Products</th>\n",
              "      <th>Clients</th>\n",
              "      <th>Turnover</th>\n",
              "      <th>Atrition</th>\n",
              "      <th>Profit</th>\n",
              "    </tr>\n",
              "  </thead>\n",
              "  <tbody>\n",
              "    <tr>\n",
              "      <th>0</th>\n",
              "      <td>1567</td>\n",
              "      <td>9</td>\n",
              "      <td>15</td>\n",
              "      <td>31470.06</td>\n",
              "      <td>3.35</td>\n",
              "      <td>8147.66</td>\n",
              "    </tr>\n",
              "    <tr>\n",
              "      <th>1</th>\n",
              "      <td>1675</td>\n",
              "      <td>10</td>\n",
              "      <td>8</td>\n",
              "      <td>41895.10</td>\n",
              "      <td>12.78</td>\n",
              "      <td>4520.65</td>\n",
              "    </tr>\n",
              "    <tr>\n",
              "      <th>2</th>\n",
              "      <td>1395</td>\n",
              "      <td>5</td>\n",
              "      <td>13</td>\n",
              "      <td>32372.37</td>\n",
              "      <td>17.50</td>\n",
              "      <td>6653.68</td>\n",
              "    </tr>\n",
              "    <tr>\n",
              "      <th>3</th>\n",
              "      <td>1165</td>\n",
              "      <td>1</td>\n",
              "      <td>9</td>\n",
              "      <td>29595.66</td>\n",
              "      <td>5.15</td>\n",
              "      <td>3949.12</td>\n",
              "    </tr>\n",
              "    <tr>\n",
              "      <th>4</th>\n",
              "      <td>35</td>\n",
              "      <td>2</td>\n",
              "      <td>12</td>\n",
              "      <td>815.01</td>\n",
              "      <td>10.17</td>\n",
              "      <td>-866.69</td>\n",
              "    </tr>\n",
              "  </tbody>\n",
              "</table>\n",
              "</div>\n",
              "      <button class=\"colab-df-convert\" onclick=\"convertToInteractive('df-b925c254-31fc-4783-a711-3d768f122fb0')\"\n",
              "              title=\"Convert this dataframe to an interactive table.\"\n",
              "              style=\"display:none;\">\n",
              "        \n",
              "  <svg xmlns=\"http://www.w3.org/2000/svg\" height=\"24px\"viewBox=\"0 0 24 24\"\n",
              "       width=\"24px\">\n",
              "    <path d=\"M0 0h24v24H0V0z\" fill=\"none\"/>\n",
              "    <path d=\"M18.56 5.44l.94 2.06.94-2.06 2.06-.94-2.06-.94-.94-2.06-.94 2.06-2.06.94zm-11 1L8.5 8.5l.94-2.06 2.06-.94-2.06-.94L8.5 2.5l-.94 2.06-2.06.94zm10 10l.94 2.06.94-2.06 2.06-.94-2.06-.94-.94-2.06-.94 2.06-2.06.94z\"/><path d=\"M17.41 7.96l-1.37-1.37c-.4-.4-.92-.59-1.43-.59-.52 0-1.04.2-1.43.59L10.3 9.45l-7.72 7.72c-.78.78-.78 2.05 0 2.83L4 21.41c.39.39.9.59 1.41.59.51 0 1.02-.2 1.41-.59l7.78-7.78 2.81-2.81c.8-.78.8-2.07 0-2.86zM5.41 20L4 18.59l7.72-7.72 1.47 1.35L5.41 20z\"/>\n",
              "  </svg>\n",
              "      </button>\n",
              "      \n",
              "  <style>\n",
              "    .colab-df-container {\n",
              "      display:flex;\n",
              "      flex-wrap:wrap;\n",
              "      gap: 12px;\n",
              "    }\n",
              "\n",
              "    .colab-df-convert {\n",
              "      background-color: #E8F0FE;\n",
              "      border: none;\n",
              "      border-radius: 50%;\n",
              "      cursor: pointer;\n",
              "      display: none;\n",
              "      fill: #1967D2;\n",
              "      height: 32px;\n",
              "      padding: 0 0 0 0;\n",
              "      width: 32px;\n",
              "    }\n",
              "\n",
              "    .colab-df-convert:hover {\n",
              "      background-color: #E2EBFA;\n",
              "      box-shadow: 0px 1px 2px rgba(60, 64, 67, 0.3), 0px 1px 3px 1px rgba(60, 64, 67, 0.15);\n",
              "      fill: #174EA6;\n",
              "    }\n",
              "\n",
              "    [theme=dark] .colab-df-convert {\n",
              "      background-color: #3B4455;\n",
              "      fill: #D2E3FC;\n",
              "    }\n",
              "\n",
              "    [theme=dark] .colab-df-convert:hover {\n",
              "      background-color: #434B5C;\n",
              "      box-shadow: 0px 1px 3px 1px rgba(0, 0, 0, 0.15);\n",
              "      filter: drop-shadow(0px 1px 2px rgba(0, 0, 0, 0.3));\n",
              "      fill: #FFFFFF;\n",
              "    }\n",
              "  </style>\n",
              "\n",
              "      <script>\n",
              "        const buttonEl =\n",
              "          document.querySelector('#df-b925c254-31fc-4783-a711-3d768f122fb0 button.colab-df-convert');\n",
              "        buttonEl.style.display =\n",
              "          google.colab.kernel.accessAllowed ? 'block' : 'none';\n",
              "\n",
              "        async function convertToInteractive(key) {\n",
              "          const element = document.querySelector('#df-b925c254-31fc-4783-a711-3d768f122fb0');\n",
              "          const dataTable =\n",
              "            await google.colab.kernel.invokeFunction('convertToInteractive',\n",
              "                                                     [key], {});\n",
              "          if (!dataTable) return;\n",
              "\n",
              "          const docLinkHtml = 'Like what you see? Visit the ' +\n",
              "            '<a target=\"_blank\" href=https://colab.research.google.com/notebooks/data_table.ipynb>data table notebook</a>'\n",
              "            + ' to learn more about interactive tables.';\n",
              "          element.innerHTML = '';\n",
              "          dataTable['output_type'] = 'display_data';\n",
              "          await google.colab.output.renderOutput(dataTable, element);\n",
              "          const docLink = document.createElement('div');\n",
              "          docLink.innerHTML = docLinkHtml;\n",
              "          element.appendChild(docLink);\n",
              "        }\n",
              "      </script>\n",
              "    </div>\n",
              "  </div>\n",
              "  "
            ]
          },
          "metadata": {},
          "execution_count": 3
        }
      ]
    },
    {
      "cell_type": "code",
      "source": [
        "dataset.isnull().sum()"
      ],
      "metadata": {
        "colab": {
          "base_uri": "https://localhost:8080/"
        },
        "id": "CNtHrEUN8QNu",
        "outputId": "23ad0aea-4844-49d5-a0ad-08bc74e18347"
      },
      "execution_count": 18,
      "outputs": [
        {
          "output_type": "execute_result",
          "data": {
            "text/plain": [
              "Employees    0\n",
              "Products     0\n",
              "Clients      0\n",
              "Turnover     0\n",
              "Atrition     0\n",
              "Profit       0\n",
              "dtype: int64"
            ]
          },
          "metadata": {},
          "execution_count": 18
        }
      ]
    },
    {
      "cell_type": "code",
      "source": [
        "X = np.array(dataset.iloc[:,0])\n",
        "y= np.array(dataset.iloc[:, 5])"
      ],
      "metadata": {
        "id": "OZqj0EBI2VC5"
      },
      "execution_count": 44,
      "outputs": []
    },
    {
      "cell_type": "code",
      "source": [
        "from sklearn.model_selection import train_test_split\n",
        "X_train,X_test,y_train,y_test = train_test_split(X,y,test_size = 0.3,random_state = 0)"
      ],
      "metadata": {
        "id": "l_PWWt1550AC"
      },
      "execution_count": 60,
      "outputs": []
    },
    {
      "cell_type": "code",
      "source": [
        "y_train.shape"
      ],
      "metadata": {
        "colab": {
          "base_uri": "https://localhost:8080/"
        },
        "id": "eAQlbXQE9b9d",
        "outputId": "65645db7-415a-42fc-a44b-2a3a39812075"
      },
      "execution_count": 61,
      "outputs": [
        {
          "output_type": "execute_result",
          "data": {
            "text/plain": [
              "(70,)"
            ]
          },
          "metadata": {},
          "execution_count": 61
        }
      ]
    },
    {
      "cell_type": "code",
      "source": [
        "from sklearn.linear_model import LinearRegression\n",
        "regression = LinearRegression()\n",
        "regression.fit(X_train.reshape(-1,1),y_train)"
      ],
      "metadata": {
        "colab": {
          "base_uri": "https://localhost:8080/"
        },
        "id": "vq3lgI6_6tl6",
        "outputId": "026b4093-a519-4b23-c4b0-3d42432d93f4"
      },
      "execution_count": 62,
      "outputs": [
        {
          "output_type": "execute_result",
          "data": {
            "text/plain": [
              "LinearRegression()"
            ]
          },
          "metadata": {},
          "execution_count": 62
        }
      ]
    },
    {
      "cell_type": "code",
      "source": [
        "import matplotlib.pyplot as plt\n",
        "#visualization training set\n",
        "train_plt = plt\n",
        "train_plt.scatter(X_train,y_train,color='red')\n",
        "train_plt.plot(X_train,regression.predict(X_train.reshape(-1,1)),color='blue')\n",
        "train_plt.title('profit vs Employees')\n",
        "train_plt.xlabel('Profit')\n",
        "train_plt.ylabel('Employees')\n",
        "train_plt.show()\n"
      ],
      "metadata": {
        "colab": {
          "base_uri": "https://localhost:8080/",
          "height": 295
        },
        "id": "RDCdfwET7ATT",
        "outputId": "42246afc-b68a-46a8-99d1-d4772e0d6f72"
      },
      "execution_count": 63,
      "outputs": [
        {
          "output_type": "display_data",
          "data": {
            "text/plain": [
              "<Figure size 432x288 with 1 Axes>"
            ],
            "image/png": "[encoded data removed]"
          },
          "metadata": {
            "needs_background": "light"
          }
        }
      ]
    },
    {
      "cell_type": "code",
      "source": [
        "#visualizing test set\n",
        "test_plt=plt\n",
        "test_plt.scatter(X_test,y_test,color='red')\n",
        "test_plt.plot(X_test,regression.predict(X_test.reshape(-1,1)),color='blue')\n",
        "train_plt.title('profit vs Employees')\n",
        "train_plt.xlabel('Profit')\n",
        "train_plt.ylabel('Employees')\n",
        "test_plt.show()"
      ],
      "metadata": {
        "colab": {
          "base_uri": "https://localhost:8080/",
          "height": 295
        },
        "id": "mnUKToIPAnAN",
        "outputId": "96cf235e-6af2-441d-b696-b6db5f1b1f34"
      },
      "execution_count": 65,
      "outputs": [
        {
          "output_type": "display_data",
          "data": {
            "text/plain": [
              "<Figure size 432x288 with 1 Axes>"
            ],
            "image/png": "[encoded data removed]"
          },
          "metadata": {
            "needs_background": "light"
          }
        }
      ]
    },
    {
      "cell_type": "code",
      "source": [
        "regression.score(X_test.reshape(-1,1),y_test)"
      ],
      "metadata": {
        "colab": {
          "base_uri": "https://localhost:8080/"
        },
        "id": "T7PLLpKsBMvI",
        "outputId": "27272482-83f8-4f5d-8b24-1d43b3d5cc71"
      },
      "execution_count": 67,
      "outputs": [
        {
          "output_type": "execute_result",
          "data": {
            "text/plain": [
              "0.8399884070559183"
            ]
          },
          "metadata": {},
          "execution_count": 67
        }
      ]
    },
    {
      "cell_type": "code",
      "source": [
        "#@title Multivariate\n",
        "\n",
        "X = dataset.iloc[:, :-1].values\n",
        "y = dataset['Profit']"
      ],
      "metadata": {
        "id": "litmu_CtBqDY"
      },
      "execution_count": 70,
      "outputs": []
    },
    {
      "cell_type": "code",
      "source": [
        "from sklearn.model_selection import train_test_split\n",
        "X_train,X_test,y_train,y_test = train_test_split(X,y,test_size=0.3,random_state=0)\n",
        "X_train.shape,X_test.shape,y_train.shape,y_test.shape"
      ],
      "metadata": {
        "colab": {
          "base_uri": "https://localhost:8080/"
        },
        "id": "dd5CmeROCKsC",
        "outputId": "0df70dae-e38c-4cca-af9c-954a8b5fb0bb"
      },
      "execution_count": 78,
      "outputs": [
        {
          "output_type": "execute_result",
          "data": {
            "text/plain": [
              "((70, 5), (30, 5), (70,), (30,))"
            ]
          },
          "metadata": {},
          "execution_count": 78
        }
      ]
    },
    {
      "cell_type": "code",
      "source": [
        "from sklearn.linear_model import LinearRegression\n",
        "regressoion = LinearRegression()\n",
        "regression.fit(X_train,y_train)"
      ],
      "metadata": {
        "colab": {
          "base_uri": "https://localhost:8080/"
        },
        "id": "yr4eftIpDjCr",
        "outputId": "8cc9df3f-fcbc-48de-ada0-21ac6fd1a242"
      },
      "execution_count": 72,
      "outputs": [
        {
          "output_type": "execute_result",
          "data": {
            "text/plain": [
              "LinearRegression()"
            ]
          },
          "metadata": {},
          "execution_count": 72
        }
      ]
    },
    {
      "cell_type": "code",
      "source": [
        "#training model score\n",
        "regression.score(X_train,y_train)"
      ],
      "metadata": {
        "colab": {
          "base_uri": "https://localhost:8080/"
        },
        "id": "dMO5YRRBD9AF",
        "outputId": "8574297a-6c14-4c45-f389-76eeaa3f1ab1"
      },
      "execution_count": 76,
      "outputs": [
        {
          "output_type": "execute_result",
          "data": {
            "text/plain": [
              "0.7793961028895533"
            ]
          },
          "metadata": {},
          "execution_count": 76
        }
      ]
    },
    {
      "cell_type": "code",
      "source": [
        "#test model score\n",
        "regression.score(X_test,y_test)"
      ],
      "metadata": {
        "colab": {
          "base_uri": "https://localhost:8080/"
        },
        "id": "ox5pKihPEMeK",
        "outputId": "b4e93cef-0580-47d4-e861-383674f2d853"
      },
      "execution_count": 77,
      "outputs": [
        {
          "output_type": "execute_result",
          "data": {
            "text/plain": [
              "0.8126065753745046"
            ]
          },
          "metadata": {},
          "execution_count": 77
        }
      ]
    },
    {
      "cell_type": "code",
      "source": [
        "predictions = regression.predict(X_train)"
      ],
      "metadata": {
        "id": "lffWxmWtFSnf"
      },
      "execution_count": 79,
      "outputs": []
    },
    {
      "cell_type": "code",
      "source": [
        "plt.scatter(y_train,predictions)\n",
        "plt.xlabel('Actual')\n",
        "plt.ylabel('Predicted')"
      ],
      "metadata": {
        "colab": {
          "base_uri": "https://localhost:8080/",
          "height": 296
        },
        "id": "b--dR8ySGUwX",
        "outputId": "4b85f106-8ffe-4053-a25a-0ceafebb2cec"
      },
      "execution_count": 82,
      "outputs": [
        {
          "output_type": "execute_result",
          "data": {
            "text/plain": [
              "Text(0, 0.5, 'Predicted')"
            ]
          },
          "metadata": {},
          "execution_count": 82
        },
        {
          "output_type": "display_data",
          "data": {
            "text/plain": [
              "<Figure size 432x288 with 1 Axes>"
            ],
            "image/png": "[encoded data removed]"
          },
          "metadata": {
            "needs_background": "light"
          }
        }
      ]
    },
    {
      "cell_type": "code",
      "source": [
        "#@title Polynomial\n",
        "\n",
        "from sklearn.preprocessing import PolynomialFeatures\n",
        "poly_features = PolynomialFeatures(degree=2,include_bias=False)"
      ],
      "metadata": {
        "id": "m_HaRV5OGYgj"
      },
      "execution_count": 111,
      "outputs": []
    },
    {
      "cell_type": "code",
      "source": [
        "X_train_poly = poly_features.fit_transform(X_train)\n",
        "X_test_poly = poly_features.transform(X_test)\n"
      ],
      "metadata": {
        "id": "q5JWLaGoO8lr"
      },
      "execution_count": 112,
      "outputs": []
    },
    {
      "cell_type": "code",
      "source": [
        "X_train_poly"
      ],
      "metadata": {
        "colab": {
          "base_uri": "https://localhost:8080/"
        },
        "id": "AlWU_pKFVtFq",
        "outputId": "bd04fb24-cdf3-4059-b0a0-5e9bd9429abc"
      },
      "execution_count": 117,
      "outputs": [
        {
          "output_type": "execute_result",
          "data": {
            "text/plain": [
              "array([[1.06900000e+03, 1.00000000e+01, 1.50000000e+01, ...,\n",
              "        7.08580211e+08, 4.57849724e+04, 2.95840000e+00],\n",
              "       [3.04000000e+02, 1.80000000e+01, 1.20000000e+01, ...,\n",
              "        4.04764437e+07, 3.49916050e+03, 3.02500000e-01],\n",
              "       [3.80000000e+01, 6.00000000e+00, 9.00000000e+00, ...,\n",
              "        7.74734436e+05, 3.64398660e+03, 1.71396000e+01],\n",
              "       ...,\n",
              "       [1.23800000e+03, 1.30000000e+01, 2.00000000e+00, ...,\n",
              "        8.23153397e+08, 3.90192840e+04, 1.84960000e+00],\n",
              "       [1.65800000e+03, 1.10000000e+01, 2.00000000e+00, ...,\n",
              "        1.32554392e+09, 3.44783949e+05, 8.96809000e+01],\n",
              "       [1.10400000e+03, 3.00000000e+00, 5.00000000e+00, ...,\n",
              "        8.97953365e+08, 1.60317404e+05, 2.86225000e+01]])"
            ]
          },
          "metadata": {},
          "execution_count": 117
        }
      ]
    },
    {
      "cell_type": "code",
      "source": [
        "regression.fit(X_train_poly,y_train)"
      ],
      "metadata": {
        "colab": {
          "base_uri": "https://localhost:8080/"
        },
        "id": "9Mw36UCgPv3S",
        "outputId": "bd1bc489-0a11-4022-d312-13094a5abb3d"
      },
      "execution_count": 113,
      "outputs": [
        {
          "output_type": "execute_result",
          "data": {
            "text/plain": [
              "LinearRegression()"
            ]
          },
          "metadata": {},
          "execution_count": 113
        }
      ]
    },
    {
      "cell_type": "code",
      "source": [
        "poly_prediction = regression.predict(X_train_poly)\n",
        "poly_prediction"
      ],
      "metadata": {
        "colab": {
          "base_uri": "https://localhost:8080/"
        },
        "id": "oEClslHCQj8Q",
        "outputId": "78292651-b544-472d-9dcb-d45348fb79ee"
      },
      "execution_count": 114,
      "outputs": [
        {
          "output_type": "execute_result",
          "data": {
            "text/plain": [
              "array([5732.4159965 , 1485.74232559,  -84.44094217, 2495.70752649,\n",
              "       8337.48712293, 2895.20981652, 3044.79938435, 2038.73295112,\n",
              "       9022.33088827, 9063.39649074, 5816.01417773, 2379.73708155,\n",
              "       7147.43745028, 6595.22702894, -197.15027365, 7375.07242283,\n",
              "       1238.24022202,  885.77512286, 8155.05579837, 3894.2083485 ,\n",
              "       7146.35745532, 6208.46012486, 7594.63270103, 3449.97979528,\n",
              "       3205.66742387, 5096.54281534, 4095.39722062, 1698.23703776,\n",
              "       2349.26259578,  513.75353733, 5128.3975212 , 1441.32054148,\n",
              "       4563.36846073, 8343.82003072, 5209.94498578,  532.18208848,\n",
              "       2990.5773548 ,  917.43517673,  559.62562986, 3094.89731478,\n",
              "       3385.95445927, 6178.15645474, 3818.60845703,  897.12166525,\n",
              "       2276.31895623, 3924.06374313, 9559.99928837, 1788.37691666,\n",
              "       5628.69743098, -390.34627956, 2711.27814402, 6633.10824629,\n",
              "       7882.35759396, 4599.79927652, 4101.36952907, 6478.9881819 ,\n",
              "       8942.83706983, 4767.89893899, 6767.92338178, 3184.98105741,\n",
              "       1776.46997279, 4748.26291965, 4179.1566403 , 1616.53595651,\n",
              "       3611.64110509, 6439.14236366, 3866.44909498, 5008.62879311,\n",
              "       7198.11617722, 3813.69571333])"
            ]
          },
          "metadata": {},
          "execution_count": 114
        }
      ]
    },
    {
      "cell_type": "code",
      "source": [
        "regression.score(X_test_poly,y_test)"
      ],
      "metadata": {
        "colab": {
          "base_uri": "https://localhost:8080/"
        },
        "id": "b7f4_Ve_VlPN",
        "outputId": "30da61dd-dc45-4b48-8ea5-d165ab450237"
      },
      "execution_count": 119,
      "outputs": [
        {
          "output_type": "execute_result",
          "data": {
            "text/plain": [
              "0.7520291741020794"
            ]
          },
          "metadata": {},
          "execution_count": 119
        }
      ]
    },
    {
      "cell_type": "code",
      "source": [],
      "metadata": {
        "id": "eaooBjGmV-TV"
      },
      "execution_count": null,
      "outputs": []
    }
  ]
}