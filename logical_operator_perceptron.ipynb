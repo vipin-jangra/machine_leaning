{
  "cells": [
    {
      "cell_type": "markdown",
      "metadata": {
        "id": "view-in-github",
        "colab_type": "text"
      },
      "source": [
        "<a href=\"https://colab.research.google.com/github/vipin-jangra/machine_leaning/blob/main/logical_operator_perceptron.ipynb\" target=\"_parent\"><img src=\"https://colab.research.google.com/assets/colab-badge.svg\" alt=\"Open In Colab\"/></a>"
      ]
    },
    {
      "cell_type": "code",
      "execution_count": 1,
      "metadata": {
        "id": "PSWDJutUhdmb"
      },
      "outputs": [],
      "source": [
        "import numpy as np"
      ]
    },
    {
      "cell_type": "code",
      "execution_count": 2,
      "metadata": {
        "id": "Ddn3Ptc2n4zG"
      },
      "outputs": [],
      "source": [
        "def unit_step(u):\n",
        "  if u>=0:\n",
        "    return 1\n",
        "  else:\n",
        "    return 0\n"
      ]
    },
    {
      "cell_type": "code",
      "execution_count": 61,
      "metadata": {
        "id": "nzjNhdFHrYUH"
      },
      "outputs": [],
      "source": [
        "gates_op = {\n",
        "    'NOT' : [1,0,0,0],\n",
        "    'OR' : [0,1,1,1],\n",
        "    'NAND' : [1,1,1,0],\n",
        "    'XOR' : [1,1,1,0]\n",
        "}"
      ]
    },
    {
      "cell_type": "code",
      "execution_count": 62,
      "metadata": {
        "id": "6pQaK-5-oqpY"
      },
      "outputs": [],
      "source": [
        "def perceptron(operator,input=[0,0]):\n",
        "  #inputs\n",
        "  a=[0,0,1,1]\n",
        "  b=[0,1,0,1]\n",
        "  y=gates_op[operator]\n",
        "\n",
        "  #weight, learning_rate, bias\n",
        "  weight = [1,1]\n",
        "  learning_rate=0.5\n",
        "  bias =-1.5\n",
        "\n",
        "  i=0\n",
        "  print(\"++++++++++++++++++++++++++++++++++++ Perceptron training operator : \"+ operator +' ++++++++++++++++++++++++++++++++++++++++++++++++++++')\n",
        "  print(\"-------------------------\")\n",
        "  while(i<4):\n",
        "    sum = np.dot([weight[0],weight[1]],[a[i],b[i]])+bias\n",
        "    op = unit_step(sum)\n",
        "    \n",
        "    ## check for the error and update weight accordingly\n",
        "    if op != y[i]:\n",
        "      # print(\"\\n \\n++++++++++++++++++++ UPDATING WEIGHTS & Bias ++++++++++++++++++++++++\")\n",
        "      weight[0] = weight[0]+learning_rate*(y[i]-op)*a[i]\n",
        "      weight[1] = weight[1]+learning_rate*(y[i]-op)*b[i]\n",
        "      bias = bias+learning_rate*(y[i]-op)\n",
        "      # print(\"Updated weights : \"+str(weight[0])+ \" , \"+str(weight[1]))\n",
        "      # print('Updated Bias : '+str(bias))\n",
        "      \n",
        "      ##iteration the learning again from the starting\n",
        "      i =-1\n",
        "      #print(\"\\n Weight updated and training again : \")\n",
        "      #print(\"####################################\")\n",
        "    i=i+1\n",
        "    #print('--------------------------------------- i: '+str(i))\n",
        "\n",
        "  # Printing the final output\n",
        "  for i in range(4):\n",
        "    sum = np.dot([weight[0],weight[1]],[a[i],b[i]])+bias\n",
        "    op = unit_step(sum)\n",
        "\n",
        "    print(\"Input : \"+str(a[i])+\" , \"+str(b[i]))\n",
        "    print(\"Weights : \"+str(weight[0])+\" , \"+str(weight[1]))\n",
        "    print(\"Bias : \"+str(bias)+\" Learning rate : \"+str(learning_rate))\n",
        "    print(\"Summation :\"+str(sum)+\" Threshold : 0\")\n",
        "    print(\"Actual op : \" + str(y[i])+ \" Predicted op :\"+ str(op))\n",
        "    print(\"-------------------------\")\n",
        "    \n",
        "  #predicting values\n",
        "  summation = input[0]*weight[0]+input[1]*weight[1]+bias\n",
        "  return unit_step(summation)\n"
      ]
    },
    {
      "cell_type": "code",
      "execution_count": 63,
      "metadata": {
        "colab": {
          "base_uri": "https://localhost:8080/"
        },
        "id": "5c3Y7ERNqKZs",
        "outputId": "8fc1a83f-3a0d-48b4-91e8-07f0e606f021"
      },
      "outputs": [
        {
          "output_type": "stream",
          "name": "stdout",
          "text": [
            "++++++++++++++++++++++++++++++++++++ Perceptron training operator : NOT ++++++++++++++++++++++++++++++++++++++++++++++++++++\n",
            "-------------------------\n",
            "Input : 0 , 0\n",
            "Weights : -0.5 , -0.5\n",
            "Bias : 0.0 Learning rate : 0.5\n",
            "Summation :0.0 Threshold : 0\n",
            "Actual op : 1 Predicted op :1\n",
            "-------------------------\n",
            "Input : 0 , 1\n",
            "Weights : -0.5 , -0.5\n",
            "Bias : 0.0 Learning rate : 0.5\n",
            "Summation :-0.5 Threshold : 0\n",
            "Actual op : 0 Predicted op :0\n",
            "-------------------------\n",
            "Input : 1 , 0\n",
            "Weights : -0.5 , -0.5\n",
            "Bias : 0.0 Learning rate : 0.5\n",
            "Summation :-0.5 Threshold : 0\n",
            "Actual op : 0 Predicted op :0\n",
            "-------------------------\n",
            "Input : 1 , 1\n",
            "Weights : -0.5 , -0.5\n",
            "Bias : 0.0 Learning rate : 0.5\n",
            "Summation :-1.0 Threshold : 0\n",
            "Actual op : 0 Predicted op :0\n",
            "-------------------------\n",
            "Predicted NOTgate output for [0, 0] : 1\n",
            "\n",
            " \n",
            "\n",
            "++++++++++++++++++++++++++++++++++++ Perceptron training operator : OR ++++++++++++++++++++++++++++++++++++++++++++++++++++\n",
            "-------------------------\n",
            "Input : 0 , 0\n",
            "Weights : 1.0 , 1.5\n",
            "Bias : -1.0 Learning rate : 0.5\n",
            "Summation :-1.0 Threshold : 0\n",
            "Actual op : 0 Predicted op :0\n",
            "-------------------------\n",
            "Input : 0 , 1\n",
            "Weights : 1.0 , 1.5\n",
            "Bias : -1.0 Learning rate : 0.5\n",
            "Summation :0.5 Threshold : 0\n",
            "Actual op : 1 Predicted op :1\n",
            "-------------------------\n",
            "Input : 1 , 0\n",
            "Weights : 1.0 , 1.5\n",
            "Bias : -1.0 Learning rate : 0.5\n",
            "Summation :0.0 Threshold : 0\n",
            "Actual op : 1 Predicted op :1\n",
            "-------------------------\n",
            "Input : 1 , 1\n",
            "Weights : 1.0 , 1.5\n",
            "Bias : -1.0 Learning rate : 0.5\n",
            "Summation :1.5 Threshold : 0\n",
            "Actual op : 1 Predicted op :1\n",
            "-------------------------\n",
            "Predicted ORgate output for [0, 0] : 0\n",
            "\n",
            " \n",
            "\n",
            "++++++++++++++++++++++++++++++++++++ Perceptron training operator : NAND ++++++++++++++++++++++++++++++++++++++++++++++++++++\n",
            "-------------------------\n",
            "Input : 0 , 0\n",
            "Weights : -1.0 , -0.5\n",
            "Bias : 1.0 Learning rate : 0.5\n",
            "Summation :1.0 Threshold : 0\n",
            "Actual op : 1 Predicted op :1\n",
            "-------------------------\n",
            "Input : 0 , 1\n",
            "Weights : -1.0 , -0.5\n",
            "Bias : 1.0 Learning rate : 0.5\n",
            "Summation :0.5 Threshold : 0\n",
            "Actual op : 1 Predicted op :1\n",
            "-------------------------\n",
            "Input : 1 , 0\n",
            "Weights : -1.0 , -0.5\n",
            "Bias : 1.0 Learning rate : 0.5\n",
            "Summation :0.0 Threshold : 0\n",
            "Actual op : 1 Predicted op :1\n",
            "-------------------------\n",
            "Input : 1 , 1\n",
            "Weights : -1.0 , -0.5\n",
            "Bias : 1.0 Learning rate : 0.5\n",
            "Summation :-0.5 Threshold : 0\n",
            "Actual op : 0 Predicted op :0\n",
            "-------------------------\n",
            "Predicted NANDgate output for [0, 0] : 1\n",
            "\n",
            " \n",
            "\n",
            "++++++++++++++++++++++++++++++++++++ Perceptron training operator : XOR ++++++++++++++++++++++++++++++++++++++++++++++++++++\n",
            "-------------------------\n",
            "Input : 0 , 0\n",
            "Weights : -1.0 , -0.5\n",
            "Bias : 1.0 Learning rate : 0.5\n",
            "Summation :1.0 Threshold : 0\n",
            "Actual op : 1 Predicted op :1\n",
            "-------------------------\n",
            "Input : 0 , 1\n",
            "Weights : -1.0 , -0.5\n",
            "Bias : 1.0 Learning rate : 0.5\n",
            "Summation :0.5 Threshold : 0\n",
            "Actual op : 1 Predicted op :1\n",
            "-------------------------\n",
            "Input : 1 , 0\n",
            "Weights : -1.0 , -0.5\n",
            "Bias : 1.0 Learning rate : 0.5\n",
            "Summation :0.0 Threshold : 0\n",
            "Actual op : 1 Predicted op :1\n",
            "-------------------------\n",
            "Input : 1 , 1\n",
            "Weights : -1.0 , -0.5\n",
            "Bias : 1.0 Learning rate : 0.5\n",
            "Summation :-0.5 Threshold : 0\n",
            "Actual op : 0 Predicted op :0\n",
            "-------------------------\n",
            "Predicted XORgate output for [0, 0] : 1\n",
            "\n",
            " \n",
            "\n"
          ]
        }
      ],
      "source": [
        "for gate in gates_op:\n",
        "  and_input = [0,0]\n",
        "  print('Predicted '+gate+'gate output for '+str(and_input) + ' : '+str(perceptron(gate)))\n",
        "  print('\\n \\n')"
      ]
    },
    {
      "cell_type": "code",
      "execution_count": null,
      "metadata": {
        "id": "seS8SCQsE0PI"
      },
      "outputs": [],
      "source": []
    }
  ],
  "metadata": {
    "colab": {
      "provenance": [],
      "authorship_tag": "ABX9TyOgjqXCsnx60Jp2ZmPDb5/7",
      "include_colab_link": true
    },
    "kernelspec": {
      "display_name": "Python 3",
      "name": "python3"
    },
    "language_info": {
      "name": "python"
    }
  },
  "nbformat": 4,
  "nbformat_minor": 0
}