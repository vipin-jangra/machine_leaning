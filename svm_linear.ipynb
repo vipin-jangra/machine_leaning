{
  "nbformat": 4,
  "nbformat_minor": 0,
  "metadata": {
    "colab": {
      "provenance": [],
      "authorship_tag": "ABX9TyNWYOdq9h6x6Y9zks03LQix",
      "include_colab_link": true
    },
    "kernelspec": {
      "name": "python3",
      "display_name": "Python 3"
    },
    "language_info": {
      "name": "python"
    }
  },
  "cells": [
    {
      "cell_type": "markdown",
      "metadata": {
        "id": "view-in-github",
        "colab_type": "text"
      },
      "source": [
        "<a href=\"https://colab.research.google.com/github/vipin-jangra/machine_leaning/blob/main/svm_linear.ipynb\" target=\"_parent\"><img src=\"https://colab.research.google.com/assets/colab-badge.svg\" alt=\"Open In Colab\"/></a>"
      ]
    },
    {
      "cell_type": "code",
      "execution_count": 1,
      "metadata": {
        "id": "Fvr24LkpHblg"
      },
      "outputs": [],
      "source": [
        "import pandas as pd\n",
        "import numpy as np\n",
        "import matplotlib.pyplot as plt"
      ]
    },
    {
      "cell_type": "code",
      "source": [
        "dataset = pd.read_csv('suv_data.csv')"
      ],
      "metadata": {
        "id": "jbIfd5nCHrZ3"
      },
      "execution_count": 2,
      "outputs": []
    },
    {
      "cell_type": "code",
      "source": [
        "dataset.head()"
      ],
      "metadata": {
        "colab": {
          "base_uri": "https://localhost:8080/",
          "height": 206
        },
        "id": "I71BO-Z_H0oE",
        "outputId": "aa7e7b49-3017-49d7-8eca-4b614d37b479"
      },
      "execution_count": 3,
      "outputs": [
        {
          "output_type": "execute_result",
          "data": {
            "text/plain": [
              "    User ID  Gender  Age  EstimatedSalary  Purchased\n",
              "0  15624510    Male   19            19000          0\n",
              "1  15810944    Male   35            20000          0\n",
              "2  15668575  Female   26            43000          0\n",
              "3  15603246  Female   27            57000          0\n",
              "4  15804002    Male   19            76000          0"
            ],
            "text/html": [
              "\n",
              "  <div id=\"df-47f4eb5b-fd72-4a3f-afa9-17e8e8b8148b\">\n",
              "    <div class=\"colab-df-container\">\n",
              "      <div>\n",
              "<style scoped>\n",
              "    .dataframe tbody tr th:only-of-type {\n",
              "        vertical-align: middle;\n",
              "    }\n",
              "\n",
              "    .dataframe tbody tr th {\n",
              "        vertical-align: top;\n",
              "    }\n",
              "\n",
              "    .dataframe thead th {\n",
              "        text-align: right;\n",
              "    }\n",
              "</style>\n",
              "<table border=\"1\" class=\"dataframe\">\n",
              "  <thead>\n",
              "    <tr style=\"text-align: right;\">\n",
              "      <th></th>\n",
              "      <th>User ID</th>\n",
              "      <th>Gender</th>\n",
              "      <th>Age</th>\n",
              "      <th>EstimatedSalary</th>\n",
              "      <th>Purchased</th>\n",
              "    </tr>\n",
              "  </thead>\n",
              "  <tbody>\n",
              "    <tr>\n",
              "      <th>0</th>\n",
              "      <td>15624510</td>\n",
              "      <td>Male</td>\n",
              "      <td>19</td>\n",
              "      <td>19000</td>\n",
              "      <td>0</td>\n",
              "    </tr>\n",
              "    <tr>\n",
              "      <th>1</th>\n",
              "      <td>15810944</td>\n",
              "      <td>Male</td>\n",
              "      <td>35</td>\n",
              "      <td>20000</td>\n",
              "      <td>0</td>\n",
              "    </tr>\n",
              "    <tr>\n",
              "      <th>2</th>\n",
              "      <td>15668575</td>\n",
              "      <td>Female</td>\n",
              "      <td>26</td>\n",
              "      <td>43000</td>\n",
              "      <td>0</td>\n",
              "    </tr>\n",
              "    <tr>\n",
              "      <th>3</th>\n",
              "      <td>15603246</td>\n",
              "      <td>Female</td>\n",
              "      <td>27</td>\n",
              "      <td>57000</td>\n",
              "      <td>0</td>\n",
              "    </tr>\n",
              "    <tr>\n",
              "      <th>4</th>\n",
              "      <td>15804002</td>\n",
              "      <td>Male</td>\n",
              "      <td>19</td>\n",
              "      <td>76000</td>\n",
              "      <td>0</td>\n",
              "    </tr>\n",
              "  </tbody>\n",
              "</table>\n",
              "</div>\n",
              "      <button class=\"colab-df-convert\" onclick=\"convertToInteractive('df-47f4eb5b-fd72-4a3f-afa9-17e8e8b8148b')\"\n",
              "              title=\"Convert this dataframe to an interactive table.\"\n",
              "              style=\"display:none;\">\n",
              "        \n",
              "  <svg xmlns=\"http://www.w3.org/2000/svg\" height=\"24px\"viewBox=\"0 0 24 24\"\n",
              "       width=\"24px\">\n",
              "    <path d=\"M0 0h24v24H0V0z\" fill=\"none\"/>\n",
              "    <path d=\"M18.56 5.44l.94 2.06.94-2.06 2.06-.94-2.06-.94-.94-2.06-.94 2.06-2.06.94zm-11 1L8.5 8.5l.94-2.06 2.06-.94-2.06-.94L8.5 2.5l-.94 2.06-2.06.94zm10 10l.94 2.06.94-2.06 2.06-.94-2.06-.94-.94-2.06-.94 2.06-2.06.94z\"/><path d=\"M17.41 7.96l-1.37-1.37c-.4-.4-.92-.59-1.43-.59-.52 0-1.04.2-1.43.59L10.3 9.45l-7.72 7.72c-.78.78-.78 2.05 0 2.83L4 21.41c.39.39.9.59 1.41.59.51 0 1.02-.2 1.41-.59l7.78-7.78 2.81-2.81c.8-.78.8-2.07 0-2.86zM5.41 20L4 18.59l7.72-7.72 1.47 1.35L5.41 20z\"/>\n",
              "  </svg>\n",
              "      </button>\n",
              "      \n",
              "  <style>\n",
              "    .colab-df-container {\n",
              "      display:flex;\n",
              "      flex-wrap:wrap;\n",
              "      gap: 12px;\n",
              "    }\n",
              "\n",
              "    .colab-df-convert {\n",
              "      background-color: #E8F0FE;\n",
              "      border: none;\n",
              "      border-radius: 50%;\n",
              "      cursor: pointer;\n",
              "      display: none;\n",
              "      fill: #1967D2;\n",
              "      height: 32px;\n",
              "      padding: 0 0 0 0;\n",
              "      width: 32px;\n",
              "    }\n",
              "\n",
              "    .colab-df-convert:hover {\n",
              "      background-color: #E2EBFA;\n",
              "      box-shadow: 0px 1px 2px rgba(60, 64, 67, 0.3), 0px 1px 3px 1px rgba(60, 64, 67, 0.15);\n",
              "      fill: #174EA6;\n",
              "    }\n",
              "\n",
              "    [theme=dark] .colab-df-convert {\n",
              "      background-color: #3B4455;\n",
              "      fill: #D2E3FC;\n",
              "    }\n",
              "\n",
              "    [theme=dark] .colab-df-convert:hover {\n",
              "      background-color: #434B5C;\n",
              "      box-shadow: 0px 1px 3px 1px rgba(0, 0, 0, 0.15);\n",
              "      filter: drop-shadow(0px 1px 2px rgba(0, 0, 0, 0.3));\n",
              "      fill: #FFFFFF;\n",
              "    }\n",
              "  </style>\n",
              "\n",
              "      <script>\n",
              "        const buttonEl =\n",
              "          document.querySelector('#df-47f4eb5b-fd72-4a3f-afa9-17e8e8b8148b button.colab-df-convert');\n",
              "        buttonEl.style.display =\n",
              "          google.colab.kernel.accessAllowed ? 'block' : 'none';\n",
              "\n",
              "        async function convertToInteractive(key) {\n",
              "          const element = document.querySelector('#df-47f4eb5b-fd72-4a3f-afa9-17e8e8b8148b');\n",
              "          const dataTable =\n",
              "            await google.colab.kernel.invokeFunction('convertToInteractive',\n",
              "                                                     [key], {});\n",
              "          if (!dataTable) return;\n",
              "\n",
              "          const docLinkHtml = 'Like what you see? Visit the ' +\n",
              "            '<a target=\"_blank\" href=https://colab.research.google.com/notebooks/data_table.ipynb>data table notebook</a>'\n",
              "            + ' to learn more about interactive tables.';\n",
              "          element.innerHTML = '';\n",
              "          dataTable['output_type'] = 'display_data';\n",
              "          await google.colab.output.renderOutput(dataTable, element);\n",
              "          const docLink = document.createElement('div');\n",
              "          docLink.innerHTML = docLinkHtml;\n",
              "          element.appendChild(docLink);\n",
              "        }\n",
              "      </script>\n",
              "    </div>\n",
              "  </div>\n",
              "  "
            ]
          },
          "metadata": {},
          "execution_count": 3
        }
      ]
    },
    {
      "cell_type": "code",
      "source": [
        "X = dataset.iloc[:,[2,3]].values\n",
        "y = dataset.iloc[:,4].values"
      ],
      "metadata": {
        "id": "kRbaKyr1H5gW"
      },
      "execution_count": 4,
      "outputs": []
    },
    {
      "cell_type": "code",
      "source": [
        "#splitting the datset into train and test\n",
        "from sklearn.model_selection import train_test_split\n",
        "X_train,X_test,y_train,y_test = train_test_split(X,y,test_size=0.3,random_state=0)"
      ],
      "metadata": {
        "id": "ZuUEXnL_IZMq"
      },
      "execution_count": 9,
      "outputs": []
    },
    {
      "cell_type": "code",
      "source": [
        "#feature scalling\n",
        "from sklearn.preprocessing import StandardScaler\n",
        "st = StandardScaler()\n",
        "X_train = st.fit_transform(X_train)\n",
        "X_test = st.transform(X_test)"
      ],
      "metadata": {
        "id": "opZXH95dI9uy"
      },
      "execution_count": 10,
      "outputs": []
    },
    {
      "cell_type": "code",
      "source": [
        "print(X_train)\n"
      ],
      "metadata": {
        "colab": {
          "base_uri": "https://localhost:8080/"
        },
        "id": "ENrpMuivJvbe",
        "outputId": "bb720b45-cd6c-46da-8ece-a51784799c91"
      },
      "execution_count": 12,
      "outputs": [
        {
          "output_type": "stream",
          "name": "stdout",
          "text": [
            "[[-1.1631724  -1.5849703 ]\n",
            " [ 2.17018137  0.93098672]\n",
            " [ 0.0133054   1.22017719]\n",
            " [ 0.20938504  1.07558195]\n",
            " [ 0.40546467 -0.48604654]\n",
            " [-0.28081405 -0.31253226]\n",
            " [ 0.99370357 -0.8330751 ]\n",
            " [ 0.99370357  1.8563962 ]\n",
            " [ 0.0133054   1.24909623]\n",
            " [-0.86905295  2.26126285]\n",
            " [-1.1631724  -1.5849703 ]\n",
            " [ 2.17018137 -0.80415605]\n",
            " [-1.35925203 -1.46929411]\n",
            " [ 0.40546467  2.2901819 ]\n",
            " [ 0.79762394  0.75747245]\n",
            " [-0.96709276 -0.31253226]\n",
            " [ 0.11134522  0.75747245]\n",
            " [-0.96709276  0.55503912]\n",
            " [ 0.30742485  0.06341534]\n",
            " [ 0.69958412 -1.26686079]\n",
            " [-0.47689368 -0.0233418 ]\n",
            " [-1.7514113   0.3526058 ]\n",
            " [-0.67297331  0.12125343]\n",
            " [ 0.40546467  0.29476771]\n",
            " [-0.28081405  0.06341534]\n",
            " [-0.47689368  2.2901819 ]\n",
            " [ 0.20938504  0.03449629]\n",
            " [ 1.28782302  2.20342476]\n",
            " [ 0.79762394  0.26584866]\n",
            " [-0.28081405  0.15017248]\n",
            " [ 0.0133054  -0.54388463]\n",
            " [-0.18277423  0.15017248]\n",
            " [-0.08473441  0.23692961]\n",
            " [ 0.0133054  -0.25469417]\n",
            " [ 2.17018137  1.104501  ]\n",
            " [-1.7514113   0.3526058 ]\n",
            " [ 1.87606192  0.12125343]\n",
            " [ 0.40546467 -0.13901799]\n",
            " [-1.1631724   0.29476771]\n",
            " [ 0.79762394  1.36477242]\n",
            " [-0.28081405 -0.25469417]\n",
            " [-1.65337148 -0.05226085]\n",
            " [-0.96709276 -0.74631796]\n",
            " [ 0.30742485  0.49720103]\n",
            " [-0.08473441 -1.06442747]\n",
            " [-1.06513258  0.58395817]\n",
            " [ 0.11134522 -0.80415605]\n",
            " [-0.96709276  1.53828669]\n",
            " [-0.67297331  1.39369146]\n",
            " [-1.26121221  0.49720103]\n",
            " [-0.28081405  0.03449629]\n",
            " [-0.08473441  0.00557724]\n",
            " [-0.28081405 -0.89091319]\n",
            " [ 0.89566375 -1.35361793]\n",
            " [-0.28081405  2.2323438 ]\n",
            " [ 0.99370357  1.97207239]\n",
            " [-1.1631724   0.46828198]\n",
            " [-1.26121221  0.26584866]\n",
            " [ 1.38586284  1.97207239]\n",
            " [ 1.28782302 -1.35361793]\n",
            " [-0.28081405 -0.28361322]\n",
            " [-0.47689368  1.24909623]\n",
            " [-0.77101313  1.07558195]\n",
            " [ 0.99370357 -1.06442747]\n",
            " [ 0.30742485  0.29476771]\n",
            " [ 0.99370357  0.75747245]\n",
            " [-0.67297331 -1.49821316]\n",
            " [-0.67297331  0.03449629]\n",
            " [ 0.50350449  1.71180097]\n",
            " [ 2.07214155  0.17909152]\n",
            " [-1.94749093 -0.74631796]\n",
            " [-0.18277423  1.39369146]\n",
            " [ 0.40546467  0.58395817]\n",
            " [ 0.89566375 -1.1511846 ]\n",
            " [-1.1631724  -0.775237  ]\n",
            " [ 0.20938504  0.23692961]\n",
            " [ 0.79762394 -0.31253226]\n",
            " [ 2.07214155 -0.80415605]\n",
            " [ 0.79762394  0.12125343]\n",
            " [-0.28081405  0.61287722]\n",
            " [-0.96709276 -0.31253226]\n",
            " [ 0.20938504 -0.37037036]\n",
            " [ 2.07214155  2.11666762]\n",
            " [ 1.87606192 -1.26686079]\n",
            " [ 1.38586284 -0.91983223]\n",
            " [ 0.89566375  1.24909623]\n",
            " [ 1.48390265  2.11666762]\n",
            " [-0.28081405 -1.23794174]\n",
            " [ 1.97410174  0.90206768]\n",
            " [ 0.69958412 -0.71739891]\n",
            " [-1.45729185  0.3526058 ]\n",
            " [ 0.79762394 -1.35361793]\n",
            " [ 0.40546467 -0.13901799]\n",
            " [-0.96709276  0.41044389]\n",
            " [ 0.0133054  -0.31253226]\n",
            " [-1.1631724   0.41044389]\n",
            " [-0.86905295 -1.2090227 ]\n",
            " [-0.08473441  0.03449629]\n",
            " [-1.55533166 -0.42820845]\n",
            " [ 0.99370357 -1.00658937]\n",
            " [ 1.09174339 -1.2090227 ]\n",
            " [ 0.0133054  -0.13901799]\n",
            " [-1.06513258 -1.52713221]\n",
            " [ 0.79762394 -1.2090227 ]\n",
            " [ 0.99370357  2.05882953]\n",
            " [-1.1631724  -1.52713221]\n",
            " [-0.28081405  0.78639149]\n",
            " [ 0.11134522 -0.31253226]\n",
            " [-1.35925203 -1.23794174]\n",
            " [-0.5749335  -1.49821316]\n",
            " [ 0.79762394  0.52612008]\n",
            " [-0.28081405 -0.34145131]\n",
            " [ 1.7780221  -0.28361322]\n",
            " [ 0.89566375 -1.03550842]\n",
            " [ 0.20938504  0.06341534]\n",
            " [-0.5749335   0.87314863]\n",
            " [-1.84945111 -1.41145602]\n",
            " [-1.26121221  0.58395817]\n",
            " [-0.28081405  0.52612008]\n",
            " [-0.96709276 -1.09334651]\n",
            " [ 1.1897832  -1.44037507]\n",
            " [ 0.20938504 -0.31253226]\n",
            " [ 1.1897832  -0.74631796]\n",
            " [-0.28081405  0.06341534]\n",
            " [ 0.20938504  2.08774857]\n",
            " [ 0.79762394 -1.09334651]\n",
            " [ 0.11134522  0.03449629]\n",
            " [-1.7514113   0.12125343]\n",
            " [-0.86905295  0.15017248]\n",
            " [-0.67297331  0.17909152]\n",
            " [ 0.89566375 -1.29577984]\n",
            " [ 0.20938504 -0.25469417]\n",
            " [-0.37885386  1.22017719]\n",
            " [ 0.0133054   0.29476771]\n",
            " [ 0.40546467  0.15017248]\n",
            " [ 0.89566375 -0.65956082]\n",
            " [ 0.11134522  0.15017248]\n",
            " [-1.84945111 -1.29577984]\n",
            " [-0.08473441  0.29476771]\n",
            " [-0.18277423 -0.28361322]\n",
            " [ 0.30742485 -0.51496559]\n",
            " [-0.18277423  1.59612479]\n",
            " [ 0.99370357 -1.18010365]\n",
            " [-0.18277423  1.62504383]\n",
            " [ 1.28782302  1.8563962 ]\n",
            " [-1.06513258 -0.37037036]\n",
            " [ 0.0133054   0.03449629]\n",
            " [ 0.11134522 -0.25469417]\n",
            " [-1.55533166 -1.23794174]\n",
            " [-0.47689368 -0.28361322]\n",
            " [ 0.99370357  0.12125343]\n",
            " [ 1.97410174 -1.35361793]\n",
            " [ 1.48390265  0.06341534]\n",
            " [-0.5749335   1.36477242]\n",
            " [ 1.58194247  0.00557724]\n",
            " [-0.77101313  0.29476771]\n",
            " [ 1.97410174  0.7285534 ]\n",
            " [-1.1631724  -0.51496559]\n",
            " [ 0.69958412  0.26584866]\n",
            " [-1.35925203 -0.42820845]\n",
            " [ 0.20938504  0.15017248]\n",
            " [-0.47689368 -1.2090227 ]\n",
            " [ 0.6015443   2.00099143]\n",
            " [-1.55533166 -1.49821316]\n",
            " [-0.47689368 -0.54388463]\n",
            " [ 0.50350449  1.82747716]\n",
            " [-1.35925203 -1.09334651]\n",
            " [ 0.79762394 -1.38253697]\n",
            " [-0.28081405 -0.42820845]\n",
            " [ 1.58194247  0.98882482]\n",
            " [ 0.99370357  1.42261051]\n",
            " [-0.28081405 -0.48604654]\n",
            " [-0.08473441  2.14558666]\n",
            " [-1.45729185 -0.11009894]\n",
            " [-0.08473441  1.94315334]\n",
            " [-0.67297331 -0.34145131]\n",
            " [-0.47689368 -0.8330751 ]\n",
            " [ 0.69958412 -1.38253697]\n",
            " [-0.77101313 -1.5849703 ]\n",
            " [-1.84945111 -1.46929411]\n",
            " [ 1.09174339  0.12125343]\n",
            " [ 0.11134522  1.50936765]\n",
            " [-0.28081405  0.09233438]\n",
            " [ 0.11134522  0.03449629]\n",
            " [-1.35925203 -1.35361793]\n",
            " [ 0.30742485  0.06341534]\n",
            " [-0.86905295  0.38152485]\n",
            " [ 1.58194247 -1.26686079]\n",
            " [-0.28081405 -0.74631796]\n",
            " [-0.08473441  0.15017248]\n",
            " [-0.86905295 -0.65956082]\n",
            " [-0.67297331 -0.05226085]\n",
            " [ 0.40546467 -0.45712749]\n",
            " [-0.77101313  1.88531525]\n",
            " [ 1.38586284  1.27801528]\n",
            " [ 1.1897832  -0.97767033]\n",
            " [ 1.7780221   1.82747716]\n",
            " [-0.86905295 -0.25469417]\n",
            " [-0.77101313  0.55503912]\n",
            " [-1.1631724  -1.55605125]\n",
            " [-0.47689368 -1.12226556]\n",
            " [ 0.30742485  0.06341534]\n",
            " [-0.18277423 -1.06442747]\n",
            " [ 1.67998229  1.59612479]\n",
            " [ 0.99370357  1.76963906]\n",
            " [ 0.30742485  0.03449629]\n",
            " [-0.77101313 -0.22577513]\n",
            " [-0.08473441  0.06341534]\n",
            " [ 0.30742485 -0.19685608]\n",
            " [ 1.97410174 -0.65956082]\n",
            " [-0.77101313  1.33585337]\n",
            " [-1.7514113  -0.60172273]\n",
            " [-0.08473441  0.12125343]\n",
            " [ 0.30742485 -0.31253226]\n",
            " [ 1.09174339  0.55503912]\n",
            " [-0.96709276  0.26584866]\n",
            " [ 1.48390265  0.3526058 ]\n",
            " [ 0.20938504 -0.37037036]\n",
            " [ 2.17018137 -1.03550842]\n",
            " [-0.28081405  1.104501  ]\n",
            " [-1.65337148  0.06341534]\n",
            " [ 0.0133054   0.03449629]\n",
            " [ 0.11134522  1.04666291]\n",
            " [-0.08473441 -0.37037036]\n",
            " [-1.1631724   0.06341534]\n",
            " [-0.28081405 -1.35361793]\n",
            " [ 1.58194247  1.104501  ]\n",
            " [-0.77101313 -1.52713221]\n",
            " [ 0.11134522  1.8563962 ]\n",
            " [-0.86905295 -0.775237  ]\n",
            " [-0.47689368 -0.775237  ]\n",
            " [-0.28081405 -0.91983223]\n",
            " [ 0.30742485 -0.71739891]\n",
            " [ 0.30742485  0.06341534]\n",
            " [ 0.11134522  1.8563962 ]\n",
            " [-1.06513258  1.94315334]\n",
            " [-1.65337148 -1.55605125]\n",
            " [-1.1631724  -1.09334651]\n",
            " [-0.67297331 -0.11009894]\n",
            " [ 0.11134522  0.09233438]\n",
            " [ 0.30742485  0.26584866]\n",
            " [ 0.89566375 -0.57280368]\n",
            " [ 0.30742485 -1.1511846 ]\n",
            " [-0.08473441  0.67071531]\n",
            " [ 2.17018137 -0.68847986]\n",
            " [-1.26121221 -1.38253697]\n",
            " [-0.96709276 -0.94875128]\n",
            " [ 0.0133054  -0.42820845]\n",
            " [-0.18277423 -0.45712749]\n",
            " [-1.7514113  -0.97767033]\n",
            " [ 1.7780221   0.98882482]\n",
            " [ 0.20938504 -0.37037036]\n",
            " [ 0.40546467  1.104501  ]\n",
            " [-1.7514113  -1.35361793]\n",
            " [ 0.20938504 -0.13901799]\n",
            " [ 0.89566375 -1.44037507]\n",
            " [-1.94749093  0.46828198]\n",
            " [-0.28081405  0.26584866]\n",
            " [ 1.87606192 -1.06442747]\n",
            " [-0.37885386  0.06341534]\n",
            " [ 1.09174339 -0.89091319]\n",
            " [-1.06513258 -1.12226556]\n",
            " [-1.84945111  0.00557724]\n",
            " [ 0.11134522  0.26584866]\n",
            " [-1.1631724   0.32368675]\n",
            " [-1.26121221  0.29476771]\n",
            " [-0.96709276  0.43936294]\n",
            " [ 1.67998229 -0.89091319]\n",
            " [ 1.1897832   0.52612008]\n",
            " [ 1.09174339  0.52612008]\n",
            " [ 1.38586284  2.31910094]\n",
            " [-0.28081405 -0.13901799]\n",
            " [ 0.40546467 -0.45712749]\n",
            " [-0.37885386 -0.775237  ]\n",
            " [-0.08473441 -0.51496559]\n",
            " [ 0.99370357 -1.1511846 ]\n",
            " [-0.86905295 -0.775237  ]\n",
            " [-0.18277423 -0.51496559]\n",
            " [-1.06513258 -0.45712749]\n",
            " [-1.1631724   1.39369146]]\n"
          ]
        }
      ]
    },
    {
      "cell_type": "code",
      "source": [
        "print(y_test)"
      ],
      "metadata": {
        "colab": {
          "base_uri": "https://localhost:8080/"
        },
        "id": "nK714XkPKDbb",
        "outputId": "14412408-374e-4786-854f-cecf6091393e"
      },
      "execution_count": 14,
      "outputs": [
        {
          "output_type": "stream",
          "name": "stdout",
          "text": [
            "[0 0 0 0 0 0 0 1 0 0 0 0 0 0 0 0 0 0 1 0 0 1 0 1 0 1 0 0 0 0 0 1 1 0 0 0 0\n",
            " 0 0 1 0 0 0 0 1 0 0 1 0 1 1 0 0 0 1 1 0 0 1 0 0 1 0 1 0 1 0 0 0 0 1 0 0 1\n",
            " 0 0 0 0 1 1 1 0 0 0 1 1 0 1 1 0 0 1 0 0 0 1 0 1 1 1 0 1 0 1 1 1 0 0 0 0 0\n",
            " 0 1 1 1 0 1 0 0 1]\n"
          ]
        }
      ]
    },
    {
      "cell_type": "code",
      "source": [
        "from sklearn.svm import SVC\n",
        "classifier = SVC(kernel='linear',random_state=0)\n",
        "classifier.fit(X_train,y_train)"
      ],
      "metadata": {
        "colab": {
          "base_uri": "https://localhost:8080/",
          "height": 74
        },
        "id": "v6t68Om-KTPR",
        "outputId": "83fbc5a6-0559-45b1-b3fb-3ab3e2a03bf9"
      },
      "execution_count": 15,
      "outputs": [
        {
          "output_type": "execute_result",
          "data": {
            "text/plain": [
              "SVC(kernel='linear', random_state=0)"
            ],
            "text/html": [
              "<style>#sk-container-id-1 {color: black;background-color: white;}#sk-container-id-1 pre{padding: 0;}#sk-container-id-1 div.sk-toggleable {background-color: white;}#sk-container-id-1 label.sk-toggleable__label {cursor: pointer;display: block;width: 100%;margin-bottom: 0;padding: 0.3em;box-sizing: border-box;text-align: center;}#sk-container-id-1 label.sk-toggleable__label-arrow:before {content: \"▸\";float: left;margin-right: 0.25em;color: #696969;}#sk-container-id-1 label.sk-toggleable__label-arrow:hover:before {color: black;}#sk-container-id-1 div.sk-estimator:hover label.sk-toggleable__label-arrow:before {color: black;}#sk-container-id-1 div.sk-toggleable__content {max-height: 0;max-width: 0;overflow: hidden;text-align: left;background-color: #f0f8ff;}#sk-container-id-1 div.sk-toggleable__content pre {margin: 0.2em;color: black;border-radius: 0.25em;background-color: #f0f8ff;}#sk-container-id-1 input.sk-toggleable__control:checked~div.sk-toggleable__content {max-height: 200px;max-width: 100%;overflow: auto;}#sk-container-id-1 input.sk-toggleable__control:checked~label.sk-toggleable__label-arrow:before {content: \"▾\";}#sk-container-id-1 div.sk-estimator input.sk-toggleable__control:checked~label.sk-toggleable__label {background-color: #d4ebff;}#sk-container-id-1 div.sk-label input.sk-toggleable__control:checked~label.sk-toggleable__label {background-color: #d4ebff;}#sk-container-id-1 input.sk-hidden--visually {border: 0;clip: rect(1px 1px 1px 1px);clip: rect(1px, 1px, 1px, 1px);height: 1px;margin: -1px;overflow: hidden;padding: 0;position: absolute;width: 1px;}#sk-container-id-1 div.sk-estimator {font-family: monospace;background-color: #f0f8ff;border: 1px dotted black;border-radius: 0.25em;box-sizing: border-box;margin-bottom: 0.5em;}#sk-container-id-1 div.sk-estimator:hover {background-color: #d4ebff;}#sk-container-id-1 div.sk-parallel-item::after {content: \"\";width: 100%;border-bottom: 1px solid gray;flex-grow: 1;}#sk-container-id-1 div.sk-label:hover label.sk-toggleable__label {background-color: #d4ebff;}#sk-container-id-1 div.sk-serial::before {content: \"\";position: absolute;border-left: 1px solid gray;box-sizing: border-box;top: 0;bottom: 0;left: 50%;z-index: 0;}#sk-container-id-1 div.sk-serial {display: flex;flex-direction: column;align-items: center;background-color: white;padding-right: 0.2em;padding-left: 0.2em;position: relative;}#sk-container-id-1 div.sk-item {position: relative;z-index: 1;}#sk-container-id-1 div.sk-parallel {display: flex;align-items: stretch;justify-content: center;background-color: white;position: relative;}#sk-container-id-1 div.sk-item::before, #sk-container-id-1 div.sk-parallel-item::before {content: \"\";position: absolute;border-left: 1px solid gray;box-sizing: border-box;top: 0;bottom: 0;left: 50%;z-index: -1;}#sk-container-id-1 div.sk-parallel-item {display: flex;flex-direction: column;z-index: 1;position: relative;background-color: white;}#sk-container-id-1 div.sk-parallel-item:first-child::after {align-self: flex-end;width: 50%;}#sk-container-id-1 div.sk-parallel-item:last-child::after {align-self: flex-start;width: 50%;}#sk-container-id-1 div.sk-parallel-item:only-child::after {width: 0;}#sk-container-id-1 div.sk-dashed-wrapped {border: 1px dashed gray;margin: 0 0.4em 0.5em 0.4em;box-sizing: border-box;padding-bottom: 0.4em;background-color: white;}#sk-container-id-1 div.sk-label label {font-family: monospace;font-weight: bold;display: inline-block;line-height: 1.2em;}#sk-container-id-1 div.sk-label-container {text-align: center;}#sk-container-id-1 div.sk-container {/* jupyter's `normalize.less` sets `[hidden] { display: none; }` but bootstrap.min.css set `[hidden] { display: none !important; }` so we also need the `!important` here to be able to override the default hidden behavior on the sphinx rendered scikit-learn.org. See: https://github.com/scikit-learn/scikit-learn/issues/21755 */display: inline-block !important;position: relative;}#sk-container-id-1 div.sk-text-repr-fallback {display: none;}</style><div id=\"sk-container-id-1\" class=\"sk-top-container\"><div class=\"sk-text-repr-fallback\"><pre>SVC(kernel=&#x27;linear&#x27;, random_state=0)</pre><b>In a Jupyter environment, please rerun this cell to show the HTML representation or trust the notebook. <br />On GitHub, the HTML representation is unable to render, please try loading this page with nbviewer.org.</b></div><div class=\"sk-container\" hidden><div class=\"sk-item\"><div class=\"sk-estimator sk-toggleable\"><input class=\"sk-toggleable__control sk-hidden--visually\" id=\"sk-estimator-id-1\" type=\"checkbox\" checked><label for=\"sk-estimator-id-1\" class=\"sk-toggleable__label sk-toggleable__label-arrow\">SVC</label><div class=\"sk-toggleable__content\"><pre>SVC(kernel=&#x27;linear&#x27;, random_state=0)</pre></div></div></div></div></div>"
            ]
          },
          "metadata": {},
          "execution_count": 15
        }
      ]
    },
    {
      "cell_type": "code",
      "source": [
        "y_pred = classifier.predict(X_test)\n",
        "y_pred"
      ],
      "metadata": {
        "colab": {
          "base_uri": "https://localhost:8080/"
        },
        "id": "gLKHy7oFKy6a",
        "outputId": "4534b50a-e961-4e6c-d4f8-375621fb1e94"
      },
      "execution_count": 17,
      "outputs": [
        {
          "output_type": "execute_result",
          "data": {
            "text/plain": [
              "array([0, 0, 0, 0, 0, 0, 0, 1, 0, 0, 0, 0, 0, 0, 0, 0, 0, 0, 1, 0, 0, 1,\n",
              "       0, 1, 0, 1, 0, 0, 0, 0, 0, 0, 1, 0, 0, 0, 0, 0, 0, 0, 0, 0, 0, 0,\n",
              "       1, 0, 0, 1, 0, 1, 1, 0, 0, 0, 1, 0, 0, 0, 0, 0, 0, 1, 0, 0, 0, 1,\n",
              "       0, 0, 0, 0, 1, 0, 0, 0, 0, 0, 1, 0, 1, 1, 1, 1, 0, 0, 1, 1, 0, 1,\n",
              "       0, 0, 0, 1, 0, 0, 0, 0, 0, 0, 1, 1, 0, 0, 0, 0, 1, 1, 0, 0, 0, 0,\n",
              "       0, 0, 0, 1, 1, 1, 1, 0, 1, 1])"
            ]
          },
          "metadata": {},
          "execution_count": 17
        }
      ]
    },
    {
      "cell_type": "code",
      "source": [
        "#creating confusion matrix\n",
        "from sklearn.metrics import confusion_matrix\n",
        "cm = confusion_matrix(y_test,y_pred)\n",
        "cm"
      ],
      "metadata": {
        "colab": {
          "base_uri": "https://localhost:8080/"
        },
        "id": "MEfaLDYMK-nb",
        "outputId": "9a393f00-9370-4d8b-9df9-435e8501d65d"
      },
      "execution_count": 18,
      "outputs": [
        {
          "output_type": "execute_result",
          "data": {
            "text/plain": [
              "array([[75,  4],\n",
              "       [12, 29]])"
            ]
          },
          "metadata": {},
          "execution_count": 18
        }
      ]
    },
    {
      "cell_type": "code",
      "source": [],
      "metadata": {
        "id": "LMRZBSthLSNB"
      },
      "execution_count": null,
      "outputs": []
    }
  ]
}