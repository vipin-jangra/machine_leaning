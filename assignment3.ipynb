{
  "nbformat": 4,
  "nbformat_minor": 0,
  "metadata": {
    "colab": {
      "provenance": [],
      "authorship_tag": "ABX9TyPAKw4OM5WCplS/t7ZjiTfo",
      "include_colab_link": true
    },
    "kernelspec": {
      "name": "python3",
      "display_name": "Python 3"
    },
    "language_info": {
      "name": "python"
    }
  },
  "cells": [
    {
      "cell_type": "markdown",
      "metadata": {
        "id": "view-in-github",
        "colab_type": "text"
      },
      "source": [
        "<a href=\"https://colab.research.google.com/github/vipin-jangra/machine_leaning/blob/main/assignment3.ipynb\" target=\"_parent\"><img src=\"https://colab.research.google.com/assets/colab-badge.svg\" alt=\"Open In Colab\"/></a>"
      ]
    },
    {
      "cell_type": "code",
      "execution_count": 1,
      "metadata": {
        "id": "NpO5LVab1ULC",
        "colab": {
          "base_uri": "https://localhost:8080/",
          "height": 744
        },
        "outputId": "6b334377-1b9f-4bf3-97aa-47fe07b25a8d"
      },
      "outputs": [
        {
          "output_type": "stream",
          "name": "stdout",
          "text": [
            ">epoch=0,error=2.078\n",
            ">epoch=10000,error=1.815\n",
            ">epoch=20000,error=0.775\n",
            ">epoch=30000,error=0.441\n",
            ">epoch=40000,error=0.296\n",
            ">epoch=50000,error=0.218\n",
            ">epoch=60000,error=0.171\n",
            ">epoch=70000,error=0.140\n",
            ">epoch=80000,error=0.118\n",
            ">epoch=90000,error=0.101\n"
          ]
        },
        {
          "output_type": "display_data",
          "data": {
            "text/plain": [
              "<Figure size 640x480 with 1 Axes>"
            ],
            "image/png": "[encoded data removed]"
          },
          "metadata": {}
        },
        {
          "output_type": "stream",
          "name": "stdout",
          "text": [
            "1\n",
            "Layer 1 \n",
            "neuron 1 : {'weights': array([8.00725262, 8.01171824]), 'result': 0.9996670724299447, 'delta': -7.90701621602461e-08}\n",
            "neuron 2 : {'weights': array([0.9127088 , 0.91257428]), 'result': 0.7135541463431602, 'delta': 0.108818099158055}\n",
            "Layer 2 \n",
            "neuron 1 : {'weights': array([-21.56537158,  27.20311496]), 'result': 0.10458413438067209, 'delta': 0.016600291194440217}\n",
            "neuron 2 : {'weights': array([ 21.56337078, -27.20057165]), 'result': 0.8953985071611207, 'delta': -0.016605196729076323}\n"
          ]
        }
      ],
      "source": [
        "import numpy as np\n",
        "import matplotlib.pyplot as plt\n",
        "\n",
        "XORdata = np.array([[0,0,0],[0,1,1],[1,0,1],[1,1,0]])\n",
        "x = XORdata[:,0:2]\n",
        "y = XORdata[:,-1]\n",
        "\n",
        "def print_network(net):\n",
        "    for i,layer in enumerate(net,1):\n",
        "        print(\"Layer {} \".format(i))\n",
        "        for j,neuron in enumerate(layer,1):\n",
        "            print(\"neuron {} :\".format(j),neuron)\n",
        "\n",
        "def initialize_network():\n",
        "    input_neurons = len(x[0])\n",
        "    hidden_neurons = input_neurons + 1\n",
        "    output_neurons = 2\n",
        "    \n",
        "    n_hidden_layers = 1\n",
        "    net = list()\n",
        "    \n",
        "    for h in range(n_hidden_layers):\n",
        "        if h!=0:\n",
        "            input_neurons = len(net[-1])\n",
        "            \n",
        "        hidden_layer = [{'weights':np.random.uniform(size=input_neurons)} for i in range(input_neurons)]\n",
        "        net.append(hidden_layer)\n",
        "        \n",
        "    output_layer = [{'weights':np.random.uniform(size=output_neurons)} for i in range(output_neurons)]\n",
        "    net.append(output_layer)\n",
        "    \n",
        "    return net\n",
        "\n",
        "net=initialize_network()\n",
        "\n",
        "def activate_sigmoid(sum):\n",
        "    return (1/(1+np.exp(-sum)))\n",
        "\n",
        "def forward_propagation(net,input):\n",
        "    row = input\n",
        "    for layer in net:\n",
        "        prev_input = np.array([])\n",
        "        for neuron in layer:\n",
        "            sum = neuron['weights'].T.dot(row)\n",
        "            \n",
        "            result = activate_sigmoid(sum)\n",
        "            neuron['result'] = result\n",
        "            \n",
        "            prev_input = np.append(prev_input,[result])\n",
        "        row = prev_input\n",
        "        \n",
        "    return row\n",
        "\n",
        "def sigmoidDerivative(output):\n",
        "    return output*(1.0-output)\n",
        "\n",
        "def back_propagation(net,row,expected):\n",
        "    for i in reversed(range(len(net))):\n",
        "        layer = net[i]\n",
        "        errors = np.array([])\n",
        "        if i == len(net) - 1:\n",
        "            results = [neuron['result'] for neuron in layer]\n",
        "            errors = expected-np.array(results)\n",
        "        else:\n",
        "            for j in range(len(layer)):\n",
        "                herror = 0\n",
        "                nextlayer = net[i+1]\n",
        "                for neuron in nextlayer:\n",
        "                    herror+=(neuron['weights'][j]*neuron['delta'])\n",
        "                errors = np.append(errors,[herror])\n",
        "           \n",
        "        for j in range(len(layer)):\n",
        "            neuron=layer[j]\n",
        "            neuron['delta']=errors[j]*sigmoidDerivative(neuron['result'])\n",
        "            \n",
        "def updateWeights(net,input,lrate):\n",
        "    \n",
        "    for i in range(len(net)):\n",
        "        inputs = input\n",
        "        if i!=0:\n",
        "            inputs=[neuron['result'] for neuron in net[i-1]]\n",
        "\n",
        "        for neuron in net[i]:\n",
        "            for j in range(len(inputs)):\n",
        "                neuron['weights'][j]+=lrate*neuron['delta']*inputs[j]\n",
        "                \n",
        "def training(net, epochs,lrate,n_outputs):\n",
        "    errors=[]\n",
        "    for epoch in range(epochs):\n",
        "        sum_error=0\n",
        "        for i,row in enumerate(x):\n",
        "            outputs=forward_propagation(net,row)\n",
        "            \n",
        "            expected=[0.0 for i in range(n_outputs)]\n",
        "            expected[y[i]]=1\n",
        "    \n",
        "            sum_error+=sum([(expected[j]-outputs[j])**2 for j in range(len(expected))])\n",
        "            back_propagation(net,row,expected)\n",
        "            updateWeights(net,row,0.05)\n",
        "        if epoch%10000 ==0:\n",
        "            print('>epoch=%d,error=%.3f'%(epoch,sum_error))\n",
        "            errors.append(sum_error)\n",
        "    return errors\n",
        "\n",
        "errors=training(net,100000, 0.05,2)\n",
        "\n",
        "epochs=[0,1,2,3,4,5,6,7,8,9]\n",
        "plt.plot(epochs,errors)\n",
        "plt.xlabel(\"epochs in 10000's\")\n",
        "plt.ylabel('error')\n",
        "plt.show()\n",
        "\n",
        "def predict(network, row):\n",
        "    outputs = forward_propagation(net, row)\n",
        "    return outputs\n",
        "\n",
        "pred=predict(net,np.array([1,0]))\n",
        "output=np.argmax(pred)\n",
        "print(output)\n",
        "\n",
        "print_network(net)"
      ]
    },
    {
      "cell_type": "code",
      "source": [],
      "metadata": {
        "id": "m4XoROju7MDq"
      },
      "execution_count": null,
      "outputs": []
    }
  ]
}