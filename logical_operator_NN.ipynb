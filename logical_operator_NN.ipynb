{
  "nbformat": 4,
  "nbformat_minor": 0,
  "metadata": {
    "colab": {
      "provenance": [],
      "authorship_tag": "ABX9TyPcxMDYh+oP/lO5lbVD1ksk",
      "include_colab_link": true
    },
    "kernelspec": {
      "name": "python3",
      "display_name": "Python 3"
    },
    "language_info": {
      "name": "python"
    }
  },
  "cells": [
    {
      "cell_type": "markdown",
      "metadata": {
        "id": "view-in-github",
        "colab_type": "text"
      },
      "source": [
        "<a href=\"https://colab.research.google.com/github/vipin-jangra/machine_leaning/blob/main/logical_operator_NN.ipynb\" target=\"_parent\"><img src=\"https://colab.research.google.com/assets/colab-badge.svg\" alt=\"Open In Colab\"/></a>"
      ]
    },
    {
      "cell_type": "code",
      "execution_count": null,
      "metadata": {
        "id": "bX8FQF5bqk2E"
      },
      "outputs": [],
      "source": [
        "import numpy as np"
      ]
    },
    {
      "cell_type": "code",
      "source": [
        "def unit_step(u):\n",
        "  if u>=0:\n",
        "    return 1\n",
        "  else:\n",
        "    return 0"
      ],
      "metadata": {
        "id": "IzFwwYWutlho"
      },
      "execution_count": null,
      "outputs": []
    },
    {
      "cell_type": "code",
      "source": [
        "def perceptron(x, w, b):\n",
        "  u = np.dot(w, x)+b\n",
        "  y = unit_step(u)\n",
        "  return y"
      ],
      "metadata": {
        "id": "jzjgta0ot6n6"
      },
      "execution_count": null,
      "outputs": []
    },
    {
      "cell_type": "code",
      "source": [
        "def not_perceptron(x):\n",
        "  w=np.array([-1,-1])\n",
        "  return perceptron(x, w, b=0.5)"
      ],
      "metadata": {
        "id": "eUovDeHCuV3P"
      },
      "execution_count": null,
      "outputs": []
    },
    {
      "cell_type": "code",
      "source": [
        "def single_not_perceptron(x):\n",
        "\treturn perceptron(x, w=-1, b=0.5)"
      ],
      "metadata": {
        "id": "K_HToEqQ2KTw"
      },
      "execution_count": null,
      "outputs": []
    },
    {
      "cell_type": "code",
      "source": [
        "def and_perceptron(x):\n",
        "  w=np.array([1,1])\n",
        "  b=-1.5\n",
        "  return perceptron(x, w, b)"
      ],
      "metadata": {
        "id": "RQMJDgonugsF"
      },
      "execution_count": null,
      "outputs": []
    },
    {
      "cell_type": "code",
      "source": [
        "def or_perceptron(x):\n",
        "  w= np.array([1,1])\n",
        "  b=-0.5\n",
        "  return perceptron(x, w, b)"
      ],
      "metadata": {
        "id": "CO34SbMAwxUG"
      },
      "execution_count": null,
      "outputs": []
    },
    {
      "cell_type": "code",
      "source": [
        "def xor_perceptron(x):\n",
        "  and_gate = and_perceptron(x)\n",
        "  not_gate = single_not_perceptron(and_gate)\n",
        "  \n",
        "  return not_gate\n"
      ],
      "metadata": {
        "id": "7RDuszbew_hU"
      },
      "execution_count": null,
      "outputs": []
    },
    {
      "cell_type": "code",
      "source": [
        "def nand_perceptron(x):\n",
        "  op_and = and_perceptron(x)\n",
        "  op_not = single_not_perceptron(op_and)\n",
        "  or_x = or_perceptron(x)\n",
        "\n",
        "  new_val = np.array([op_not,or_x])\n",
        "  op = and_perceptron(new_val)\n",
        "  return op"
      ],
      "metadata": {
        "id": "c8c32Oh0ywuj"
      },
      "execution_count": null,
      "outputs": []
    },
    {
      "cell_type": "code",
      "source": [
        "test1 = np.array([\n",
        "    [1,1],\n",
        "    [1,0],\n",
        "    [0,1],\n",
        "    [0,0]\n",
        "])\n",
        "\n",
        "for x in test1:\n",
        "  print(\"NOT({}, {}) = {}\".format(x[0],x[1], not_perceptron(x)))\n",
        "  print(\"OR({}, {}) = {}\".format(x[0],x[1], or_perceptron(x)))\n",
        "  print(\"NAND({}, {}) = {}\".format(x[0],x[1], nand_perceptron(x)))\n",
        "  print(\"XOR({}, {}) = {}\".format(x[0],x[1], xor_perceptron(x)))\n",
        "  print(\"\")\n"
      ],
      "metadata": {
        "colab": {
          "base_uri": "https://localhost:8080/"
        },
        "id": "wyvR-uw3u74Y",
        "outputId": "81859c92-4f93-4f23-f962-25687801ae96"
      },
      "execution_count": null,
      "outputs": [
        {
          "output_type": "stream",
          "name": "stdout",
          "text": [
            "NOT(1, 1) = 0\n",
            "OR(1, 1) = 1\n",
            "NAND(1, 1) = 0\n",
            "XOR(1, 1) = 0\n",
            "\n",
            "NOT(1, 0) = 0\n",
            "OR(1, 0) = 1\n",
            "NAND(1, 0) = 1\n",
            "XOR(1, 0) = 1\n",
            "\n",
            "NOT(0, 1) = 0\n",
            "OR(0, 1) = 1\n",
            "NAND(0, 1) = 1\n",
            "XOR(0, 1) = 1\n",
            "\n",
            "NOT(0, 0) = 1\n",
            "OR(0, 0) = 0\n",
            "NAND(0, 0) = 0\n",
            "XOR(0, 0) = 1\n",
            "\n"
          ]
        }
      ]
    },
    {
      "cell_type": "code",
      "source": [],
      "metadata": {
        "id": "cZwXMlWmvwu3"
      },
      "execution_count": null,
      "outputs": []
    }
  ]
}